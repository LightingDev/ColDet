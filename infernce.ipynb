{
 "cells": [
  {
   "cell_type": "code",
   "execution_count": null,
   "id": "e6aca785",
   "metadata": {},
   "outputs": [],
   "source": [
    "# 📦 Imports\n",
    "from keras.models import load_model  # TensorFlow backend required\n",
    "import cv2  # OpenCV for webcam\n",
    "import numpy as np  # For numerical operations"
   ]
  },
  {
   "cell_type": "code",
   "execution_count": null,
   "id": "0512a491",
   "metadata": {},
   "outputs": [],
   "source": [
    "# ⚙️ Setup\n",
    "np.set_printoptions(suppress=True)  # Disable scientific notation\n",
    "\n",
    "# Load model and labels\n",
    "model = load_model(\"keras_Model.h5\", compile=False)\n",
    "class_names = open(\"labels.txt\", \"r\").readlines()"
   ]
  },
  {
   "cell_type": "code",
   "execution_count": null,
   "id": "82c30d3a",
   "metadata": {},
   "outputs": [],
   "source": [
    "# 🎥 Initialize Webcam\n",
    "camera = cv2.VideoCapture(0)"
   ]
  },
  {
   "cell_type": "code",
   "execution_count": null,
   "id": "fcc9e71e",
   "metadata": {},
   "outputs": [],
   "source": [
    "# 🔁 Live Prediction Loop\n",
    "while True:\n",
    "    # Capture frame from webcam\n",
    "    ret, image = camera.read()\n",
    "    if not ret:\n",
    "        print(\"Failed to grab frame\")\n",
    "        break\n",
    "\n",
    "    # Resize to model input size (224x224)\n",
    "    image_resized = cv2.resize(image, (224, 224), interpolation=cv2.INTER_AREA)\n",
    "\n",
    "    # Show the image in a window\n",
    "    cv2.imshow(\"Webcam Image\", image_resized)\n",
    "\n",
    "    # Preprocess image for model\n",
    "    image_array = np.asarray(image_resized, dtype=np.float32).reshape(1, 224, 224, 3)\n",
    "    image_array = (image_array / 127.5) - 1  # Normalize to [-1, 1]\n",
    "\n",
    "    # Predict\n",
    "    prediction = model.predict(image_array)\n",
    "    index = np.argmax(prediction)\n",
    "    class_name = class_names[index]\n",
    "    confidence_score = prediction[0][index]\n",
    "\n",
    "    # Print prediction\n",
    "    print(f\"Class: {class_name[2:].strip()} | Confidence: {np.round(confidence_score * 100, 2)}%\")\n",
    "\n",
    "    # Exit on ESC key\n",
    "    if cv2.waitKey(1) == 27:\n",
    "        break\n",
    "\n",
    "# Cleanup\n",
    "camera.release()\n",
    "cv2.destroyAllWindows()"
   ]
  }
 ],
 "metadata": {},
 "nbformat": 4,
 "nbformat_minor": 5
}
